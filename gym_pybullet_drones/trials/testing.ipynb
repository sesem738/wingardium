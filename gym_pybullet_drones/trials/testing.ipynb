{
 "cells": [
  {
   "cell_type": "code",
   "execution_count": 7,
   "metadata": {},
   "outputs": [],
   "source": [
    "from gym_pybullet_drones.envs.WaypointAviary import WaypointAviary"
   ]
  },
  {
   "cell_type": "code",
   "execution_count": 8,
   "metadata": {},
   "outputs": [],
   "source": [
    "x = np.random.uniform(-5, 5)\n",
    "y = np.random.uniform(-5, 5)\n",
    "z = np.random.uniform(0, 5)\n",
    "INIT_XYZS = np.array([x, y, z]).reshape(1,3)"
   ]
  },
  {
   "cell_type": "code",
   "execution_count": 9,
   "metadata": {},
   "outputs": [],
   "source": [
    "# Example usage:\n",
    "waypoint_gen = WaypointGenerator()\n",
    "way_cnt = 0\n",
    "waypoints = waypoint_gen.generate_random_trajectory(x,y,z)\n"
   ]
  },
  {
   "cell_type": "code",
   "execution_count": 10,
   "metadata": {},
   "outputs": [
    {
     "data": {
      "text/plain": [
       "array([-1.19385613,  2.18416246,  2.40341188])"
      ]
     },
     "execution_count": 10,
     "metadata": {},
     "output_type": "execute_result"
    }
   ],
   "source": [
    "np.asarray(waypoints[way_cnt])"
   ]
  }
 ],
 "metadata": {
  "kernelspec": {
   "display_name": "leviosa",
   "language": "python",
   "name": "python3"
  },
  "language_info": {
   "codemirror_mode": {
    "name": "ipython",
    "version": 3
   },
   "file_extension": ".py",
   "mimetype": "text/x-python",
   "name": "python",
   "nbconvert_exporter": "python",
   "pygments_lexer": "ipython3",
   "version": "3.10.14"
  }
 },
 "nbformat": 4,
 "nbformat_minor": 2
}
